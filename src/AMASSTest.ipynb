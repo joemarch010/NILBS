{
 "cells": [
  {
   "cell_type": "code",
   "execution_count": 1,
   "metadata": {
    "collapsed": true
   },
   "outputs": [
    {
     "name": "stdout",
     "output_type": "stream",
     "text": [
      "Data keys available:['poses', 'gender', 'mocap_framerate', 'betas', 'marker_data', 'dmpls', 'marker_labels', 'trans']\n",
      "Vector poses has 156 elements for each of 601 frames.\n",
      "Vector dmpls has 8 elements for each of 601 frames.\n",
      "Vector trams has 3 elements for each of 601 frames.\n",
      "Vector betas has 16 elements constant for the whole sequence.\n",
      "The subject of the mocap sequence is male.\n"
     ]
    },
    {
     "ename": "ValueError",
     "evalue": "Failed to initialize Pyglet window with an OpenGL >= 3+ context. If you're logged in via SSH, ensure that you're running your script with vglrun (i.e. VirtualGL). The internal error message was \"'NoneType' object has no attribute 'setView_'\"",
     "output_type": "error",
     "traceback": [
      "\u001B[0;31m---------------------------------------------------------------------------\u001B[0m",
      "\u001B[0;31mAttributeError\u001B[0m                            Traceback (most recent call last)",
      "\u001B[0;32m~/CS Work/NiLBS/NiLBS/venv/lib/python3.8/site-packages/pyrender/platforms/pyglet_platform.py\u001B[0m in \u001B[0;36minit_context\u001B[0;34m(self)\u001B[0m\n\u001B[1;32m     31\u001B[0m         \u001B[0;32mtry\u001B[0m\u001B[0;34m:\u001B[0m\u001B[0;34m\u001B[0m\u001B[0;34m\u001B[0m\u001B[0m\n\u001B[0;32m---> 32\u001B[0;31m             self._window = pyglet.window.Window(config=conf, visible=False,\n\u001B[0m\u001B[1;32m     33\u001B[0m                                                 \u001B[0mresizable\u001B[0m\u001B[0;34m=\u001B[0m\u001B[0;32mFalse\u001B[0m\u001B[0;34m,\u001B[0m\u001B[0;34m\u001B[0m\u001B[0;34m\u001B[0m\u001B[0m\n",
      "\u001B[0;32m~/CS Work/NiLBS/NiLBS/venv/lib/python3.8/site-packages/pyglet/window/__init__.py\u001B[0m in \u001B[0;36m__init__\u001B[0;34m(self, width, height, caption, resizable, style, fullscreen, visible, vsync, file_drops, display, screen, config, context, mode)\u001B[0m\n\u001B[1;32m    647\u001B[0m         \u001B[0mapp\u001B[0m\u001B[0;34m.\u001B[0m\u001B[0mwindows\u001B[0m\u001B[0;34m.\u001B[0m\u001B[0madd\u001B[0m\u001B[0;34m(\u001B[0m\u001B[0mself\u001B[0m\u001B[0;34m)\u001B[0m\u001B[0;34m\u001B[0m\u001B[0;34m\u001B[0m\u001B[0m\n\u001B[0;32m--> 648\u001B[0;31m         \u001B[0mself\u001B[0m\u001B[0;34m.\u001B[0m\u001B[0m_create\u001B[0m\u001B[0;34m(\u001B[0m\u001B[0;34m)\u001B[0m\u001B[0;34m\u001B[0m\u001B[0;34m\u001B[0m\u001B[0m\n\u001B[0m\u001B[1;32m    649\u001B[0m \u001B[0;34m\u001B[0m\u001B[0m\n",
      "\u001B[0;32m~/CS Work/NiLBS/NiLBS/venv/lib/python3.8/site-packages/pyglet/window/cocoa/__init__.py\u001B[0m in \u001B[0;36m_create\u001B[0;34m(self)\u001B[0m\n\u001B[1;32m    196\u001B[0m         \u001B[0mself\u001B[0m\u001B[0;34m.\u001B[0m\u001B[0mcanvas\u001B[0m \u001B[0;34m=\u001B[0m \u001B[0mCocoaCanvas\u001B[0m\u001B[0;34m(\u001B[0m\u001B[0mself\u001B[0m\u001B[0;34m.\u001B[0m\u001B[0mdisplay\u001B[0m\u001B[0;34m,\u001B[0m \u001B[0mself\u001B[0m\u001B[0;34m.\u001B[0m\u001B[0mscreen\u001B[0m\u001B[0;34m,\u001B[0m \u001B[0mself\u001B[0m\u001B[0;34m.\u001B[0m\u001B[0m_nsview\u001B[0m\u001B[0;34m)\u001B[0m\u001B[0;34m\u001B[0m\u001B[0;34m\u001B[0m\u001B[0m\n\u001B[0;32m--> 197\u001B[0;31m         \u001B[0mself\u001B[0m\u001B[0;34m.\u001B[0m\u001B[0mcontext\u001B[0m\u001B[0;34m.\u001B[0m\u001B[0mattach\u001B[0m\u001B[0;34m(\u001B[0m\u001B[0mself\u001B[0m\u001B[0;34m.\u001B[0m\u001B[0mcanvas\u001B[0m\u001B[0;34m)\u001B[0m\u001B[0;34m\u001B[0m\u001B[0;34m\u001B[0m\u001B[0m\n\u001B[0m\u001B[1;32m    198\u001B[0m \u001B[0;34m\u001B[0m\u001B[0m\n",
      "\u001B[0;32m~/CS Work/NiLBS/NiLBS/venv/lib/python3.8/site-packages/pyglet/gl/cocoa.py\u001B[0m in \u001B[0;36mattach\u001B[0;34m(self, canvas)\u001B[0m\n\u001B[1;32m    290\u001B[0m         \u001B[0;31m# setView, otherwise you get an \"invalid drawable\" message.\u001B[0m\u001B[0;34m\u001B[0m\u001B[0;34m\u001B[0m\u001B[0;34m\u001B[0m\u001B[0m\n\u001B[0;32m--> 291\u001B[0;31m         \u001B[0mself\u001B[0m\u001B[0;34m.\u001B[0m\u001B[0m_nscontext\u001B[0m\u001B[0;34m.\u001B[0m\u001B[0msetView_\u001B[0m\u001B[0;34m(\u001B[0m\u001B[0mcanvas\u001B[0m\u001B[0;34m.\u001B[0m\u001B[0mnsview\u001B[0m\u001B[0;34m)\u001B[0m\u001B[0;34m\u001B[0m\u001B[0;34m\u001B[0m\u001B[0m\n\u001B[0m\u001B[1;32m    292\u001B[0m         \u001B[0mself\u001B[0m\u001B[0;34m.\u001B[0m\u001B[0m_nscontext\u001B[0m\u001B[0;34m.\u001B[0m\u001B[0mview\u001B[0m\u001B[0;34m(\u001B[0m\u001B[0;34m)\u001B[0m\u001B[0;34m.\u001B[0m\u001B[0msetWantsBestResolutionOpenGLSurface_\u001B[0m\u001B[0;34m(\u001B[0m\u001B[0;36m1\u001B[0m\u001B[0;34m)\u001B[0m\u001B[0;34m\u001B[0m\u001B[0;34m\u001B[0m\u001B[0m\n",
      "\u001B[0;31mAttributeError\u001B[0m: 'NoneType' object has no attribute 'setView_'",
      "\nDuring handling of the above exception, another exception occurred:\n",
      "\u001B[0;31mValueError\u001B[0m                                Traceback (most recent call last)",
      "\u001B[0;32m<ipython-input-1-cd74436e1f63>\u001B[0m in \u001B[0;36m<module>\u001B[0;34m\u001B[0m\n\u001B[1;32m     45\u001B[0m \u001B[0;34m\u001B[0m\u001B[0m\n\u001B[1;32m     46\u001B[0m \u001B[0mimw\u001B[0m\u001B[0;34m,\u001B[0m \u001B[0mimh\u001B[0m\u001B[0;34m=\u001B[0m\u001B[0;36m1600\u001B[0m\u001B[0;34m,\u001B[0m \u001B[0;36m1600\u001B[0m\u001B[0;34m\u001B[0m\u001B[0;34m\u001B[0m\u001B[0m\n\u001B[0;32m---> 47\u001B[0;31m \u001B[0mmv\u001B[0m \u001B[0;34m=\u001B[0m \u001B[0mMeshViewer\u001B[0m\u001B[0;34m(\u001B[0m\u001B[0mwidth\u001B[0m\u001B[0;34m=\u001B[0m\u001B[0mimw\u001B[0m\u001B[0;34m,\u001B[0m \u001B[0mheight\u001B[0m\u001B[0;34m=\u001B[0m\u001B[0mimh\u001B[0m\u001B[0;34m,\u001B[0m \u001B[0muse_offscreen\u001B[0m\u001B[0;34m=\u001B[0m\u001B[0;32mTrue\u001B[0m\u001B[0;34m)\u001B[0m\u001B[0;34m\u001B[0m\u001B[0;34m\u001B[0m\u001B[0m\n\u001B[0m\u001B[1;32m     48\u001B[0m \u001B[0;34m\u001B[0m\u001B[0m\n\u001B[1;32m     49\u001B[0m \u001B[0mbody\u001B[0m \u001B[0;34m=\u001B[0m \u001B[0mbm\u001B[0m\u001B[0;34m(\u001B[0m\u001B[0mpose_body\u001B[0m\u001B[0;34m=\u001B[0m\u001B[0mpose_body\u001B[0m\u001B[0;34m,\u001B[0m \u001B[0mbetas\u001B[0m\u001B[0;34m=\u001B[0m\u001B[0mbetas\u001B[0m\u001B[0;34m)\u001B[0m\u001B[0;34m\u001B[0m\u001B[0;34m\u001B[0m\u001B[0m\n",
      "\u001B[0;32m~/CS Work/NiLBS/NiLBS/venv/lib/python3.8/site-packages/human_body_prior/mesh/mesh_viewer.py\u001B[0m in \u001B[0;36m__init__\u001B[0;34m(self, width, height, use_offscreen)\u001B[0m\n\u001B[1;32m     52\u001B[0m \u001B[0;34m\u001B[0m\u001B[0m\n\u001B[1;32m     53\u001B[0m         \u001B[0;32mif\u001B[0m \u001B[0mself\u001B[0m\u001B[0;34m.\u001B[0m\u001B[0muse_offscreen\u001B[0m\u001B[0;34m:\u001B[0m\u001B[0;34m\u001B[0m\u001B[0;34m\u001B[0m\u001B[0m\n\u001B[0;32m---> 54\u001B[0;31m             \u001B[0mself\u001B[0m\u001B[0;34m.\u001B[0m\u001B[0mviewer\u001B[0m \u001B[0;34m=\u001B[0m \u001B[0mpyrender\u001B[0m\u001B[0;34m.\u001B[0m\u001B[0mOffscreenRenderer\u001B[0m\u001B[0;34m(\u001B[0m\u001B[0;34m*\u001B[0m\u001B[0mself\u001B[0m\u001B[0;34m.\u001B[0m\u001B[0mfigsize\u001B[0m\u001B[0;34m)\u001B[0m\u001B[0;34m\u001B[0m\u001B[0;34m\u001B[0m\u001B[0m\n\u001B[0m\u001B[1;32m     55\u001B[0m             \u001B[0mself\u001B[0m\u001B[0;34m.\u001B[0m\u001B[0muse_raymond_lighting\u001B[0m\u001B[0;34m(\u001B[0m\u001B[0;36m5.\u001B[0m\u001B[0;34m)\u001B[0m\u001B[0;34m\u001B[0m\u001B[0;34m\u001B[0m\u001B[0m\n\u001B[1;32m     56\u001B[0m         \u001B[0;32melse\u001B[0m\u001B[0;34m:\u001B[0m\u001B[0;34m\u001B[0m\u001B[0;34m\u001B[0m\u001B[0m\n",
      "\u001B[0;32m~/CS Work/NiLBS/NiLBS/venv/lib/python3.8/site-packages/pyrender/offscreen.py\u001B[0m in \u001B[0;36m__init__\u001B[0;34m(self, viewport_width, viewport_height, point_size)\u001B[0m\n\u001B[1;32m     29\u001B[0m         \u001B[0mself\u001B[0m\u001B[0;34m.\u001B[0m\u001B[0m_platform\u001B[0m \u001B[0;34m=\u001B[0m \u001B[0;32mNone\u001B[0m\u001B[0;34m\u001B[0m\u001B[0;34m\u001B[0m\u001B[0m\n\u001B[1;32m     30\u001B[0m         \u001B[0mself\u001B[0m\u001B[0;34m.\u001B[0m\u001B[0m_renderer\u001B[0m \u001B[0;34m=\u001B[0m \u001B[0;32mNone\u001B[0m\u001B[0;34m\u001B[0m\u001B[0;34m\u001B[0m\u001B[0m\n\u001B[0;32m---> 31\u001B[0;31m         \u001B[0mself\u001B[0m\u001B[0;34m.\u001B[0m\u001B[0m_create\u001B[0m\u001B[0;34m(\u001B[0m\u001B[0;34m)\u001B[0m\u001B[0;34m\u001B[0m\u001B[0;34m\u001B[0m\u001B[0m\n\u001B[0m\u001B[1;32m     32\u001B[0m \u001B[0;34m\u001B[0m\u001B[0m\n\u001B[1;32m     33\u001B[0m     \u001B[0;34m@\u001B[0m\u001B[0mproperty\u001B[0m\u001B[0;34m\u001B[0m\u001B[0;34m\u001B[0m\u001B[0m\n",
      "\u001B[0;32m~/CS Work/NiLBS/NiLBS/venv/lib/python3.8/site-packages/pyrender/offscreen.py\u001B[0m in \u001B[0;36m_create\u001B[0;34m(self)\u001B[0m\n\u001B[1;32m    133\u001B[0m                 \u001B[0mos\u001B[0m\u001B[0;34m.\u001B[0m\u001B[0menviron\u001B[0m\u001B[0;34m[\u001B[0m\u001B[0;34m'PYOPENGL_PLATFORM'\u001B[0m\u001B[0;34m]\u001B[0m\u001B[0;34m\u001B[0m\u001B[0;34m\u001B[0m\u001B[0m\n\u001B[1;32m    134\u001B[0m             ))\n\u001B[0;32m--> 135\u001B[0;31m         \u001B[0mself\u001B[0m\u001B[0;34m.\u001B[0m\u001B[0m_platform\u001B[0m\u001B[0;34m.\u001B[0m\u001B[0minit_context\u001B[0m\u001B[0;34m(\u001B[0m\u001B[0;34m)\u001B[0m\u001B[0;34m\u001B[0m\u001B[0;34m\u001B[0m\u001B[0m\n\u001B[0m\u001B[1;32m    136\u001B[0m         \u001B[0mself\u001B[0m\u001B[0;34m.\u001B[0m\u001B[0m_platform\u001B[0m\u001B[0;34m.\u001B[0m\u001B[0mmake_current\u001B[0m\u001B[0;34m(\u001B[0m\u001B[0;34m)\u001B[0m\u001B[0;34m\u001B[0m\u001B[0;34m\u001B[0m\u001B[0m\n\u001B[1;32m    137\u001B[0m         \u001B[0mself\u001B[0m\u001B[0;34m.\u001B[0m\u001B[0m_renderer\u001B[0m \u001B[0;34m=\u001B[0m \u001B[0mRenderer\u001B[0m\u001B[0;34m(\u001B[0m\u001B[0mself\u001B[0m\u001B[0;34m.\u001B[0m\u001B[0mviewport_width\u001B[0m\u001B[0;34m,\u001B[0m \u001B[0mself\u001B[0m\u001B[0;34m.\u001B[0m\u001B[0mviewport_height\u001B[0m\u001B[0;34m)\u001B[0m\u001B[0;34m\u001B[0m\u001B[0;34m\u001B[0m\u001B[0m\n",
      "\u001B[0;32m~/CS Work/NiLBS/NiLBS/venv/lib/python3.8/site-packages/pyrender/platforms/pyglet_platform.py\u001B[0m in \u001B[0;36minit_context\u001B[0;34m(self)\u001B[0m\n\u001B[1;32m     34\u001B[0m                                                 width=1, height=1)\n\u001B[1;32m     35\u001B[0m         \u001B[0;32mexcept\u001B[0m \u001B[0mException\u001B[0m \u001B[0;32mas\u001B[0m \u001B[0me\u001B[0m\u001B[0;34m:\u001B[0m\u001B[0;34m\u001B[0m\u001B[0;34m\u001B[0m\u001B[0m\n\u001B[0;32m---> 36\u001B[0;31m             raise ValueError(\n\u001B[0m\u001B[1;32m     37\u001B[0m                 \u001B[0;34m'Failed to initialize Pyglet window with an OpenGL >= 3+ '\u001B[0m\u001B[0;34m\u001B[0m\u001B[0;34m\u001B[0m\u001B[0m\n\u001B[1;32m     38\u001B[0m                 \u001B[0;34m'context. If you\\'re logged in via SSH, ensure that you\\'re '\u001B[0m\u001B[0;34m\u001B[0m\u001B[0;34m\u001B[0m\u001B[0m\n",
      "\u001B[0;31mValueError\u001B[0m: Failed to initialize Pyglet window with an OpenGL >= 3+ context. If you're logged in via SSH, ensure that you're running your script with vglrun (i.e. VirtualGL). The internal error message was \"'NoneType' object has no attribute 'setView_'\""
     ]
    }
   ],
   "source": [
    "\n",
    "import sys, os\n",
    "import torch\n",
    "import numpy as np\n",
    "import trimesh\n",
    "import trimesh.viewer\n",
    "\n",
    "from notebook_tools import show_image\n",
    "from human_body_prior.tools.omni_tools import colors\n",
    "from human_body_prior.mesh import MeshViewer\n",
    "from human_body_prior.mesh.sphere import points_to_spheres\n",
    "from human_body_prior.tools.omni_tools import copy2cpu as c2c\n",
    "from human_body_prior.body_model.body_model import BodyModel\n",
    "\n",
    "comp_device = torch.device(\"cuda\" if torch.cuda.is_available() else \"cpu\")\n",
    "\n",
    "\n",
    "bm_path = '../data/AMASS/body_models/smplh/male/model.npz'\n",
    "dmpl_path = '../data/AMASS/body_models/dmpls/male/model.npz'\n",
    "\n",
    "num_betas = 10 # number of body parameters\n",
    "num_dmpls = 8 # number of DMPL parameters\n",
    "\n",
    "bm = BodyModel(bm_path=bm_path, num_betas=num_betas, num_dmpls=num_dmpls, path_dmpl=dmpl_path).to(comp_device)\n",
    "faces = c2c(bm.f)\n",
    "\n",
    "npz_bdata_path = '../data/AMASS/github_data/amass_sample.npz' # the path to body data\n",
    "bdata = np.load(npz_bdata_path)\n",
    "\n",
    "print('Data keys available:%s'%list(bdata.keys()))\n",
    "print('Vector poses has %d elements for each of %d frames.'%(bdata['poses'].shape[1], bdata['poses'].shape[0]))\n",
    "print('Vector dmpls has %d elements for each of %d frames.'%(bdata['dmpls'].shape[1], bdata['dmpls'].shape[0]))\n",
    "print('Vector trams has %d elements for each of %d frames.'%(bdata['trans'].shape[1], bdata['trans'].shape[0]))\n",
    "print('Vector betas has %d elements constant for the whole sequence.'%bdata['betas'].shape[0])\n",
    "print('The subject of the mocap sequence is %s.'%bdata['gender'])\n",
    "\n",
    "\n",
    "fId = 0 # frame id of the mocap sequence\n",
    "\n",
    "root_orient = torch.Tensor(bdata['poses'][fId:fId+1, :3]).to(comp_device) # controls the global root orientation\n",
    "pose_body = torch.Tensor(bdata['poses'][fId:fId+1, 3:66]).to(comp_device) # controls the body\n",
    "pose_hand = torch.Tensor(bdata['poses'][fId:fId+1, 66:]).to(comp_device) # controls the finger articulation\n",
    "betas = torch.Tensor(bdata['betas'][:10][np.newaxis]).to(comp_device) # controls the body shape\n",
    "dmpls = torch.Tensor(bdata['dmpls'][fId:fId+1]).to(comp_device) # controls soft tissue dynamics\n",
    "\n",
    "\n",
    "imw, imh=1600, 1600\n",
    "mv = MeshViewer(width=imw, height=imh, use_offscreen=True)\n",
    "\n",
    "body = bm(pose_body=pose_body, betas=betas)\n",
    "body_mesh = trimesh.Trimesh(vertices=c2c(body.v[0]), faces=faces, vertex_colors=np.tile(colors['grey'], (6890, 1)))\n",
    "mv.set_static_meshes([body_mesh])\n",
    "body_image = mv.render(render_wireframe=False)\n",
    "show_image(body_image)\n",
    "\n",
    "print('OK')"
   ]
  }
 ],
 "metadata": {
  "kernelspec": {
   "display_name": "Python 3",
   "language": "python",
   "name": "python3"
  },
  "language_info": {
   "codemirror_mode": {
    "name": "ipython",
    "version": 2
   },
   "file_extension": ".py",
   "mimetype": "text/x-python",
   "name": "python",
   "nbconvert_exporter": "python",
   "pygments_lexer": "ipython2",
   "version": "2.7.6"
  }
 },
 "nbformat": 4,
 "nbformat_minor": 0
}
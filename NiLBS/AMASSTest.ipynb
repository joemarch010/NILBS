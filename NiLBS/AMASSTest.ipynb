{
 "cells": [
  {
   "cell_type": "code",
   "source": [
    "import sys, os, time\n",
    "import torch\n",
    "import numpy as np\n",
    "import trimesh\n",
    "import k3d\n",
    "\n",
    "from trimesh.creation import icosphere\n",
    "from trimesh.transformations import translation_matrix\n",
    "\n",
    "from human_body_prior.tools.omni_tools import colors\n",
    "from human_body_prior.mesh import MeshViewer\n",
    "from human_body_prior.tools.omni_tools import copy2cpu as c2c\n",
    "from human_body_prior.body_model.body_model import BodyModel\n",
    "\n",
    "from NiLBS.occupancy.occupancy_function_mesh import OccupancyFunctionMesh\n",
    "from NiLBS.weighting.weighting_function_pointwise import WeightingFunctionPointwise\n",
    "from NiLBS.weighting.weighting_function_mlp_naive import WeightingFunctionMLPNaive\n",
    "from NiLBS.weighting.weighting_function_mlp_rest_naive import WeightingFunctionMLPRestNaive\n",
    "from NiLBS.pose.pose import Pose\n",
    "from NiLBS.skinning.skinning_mesh_lbs import LBSMeshDeformer\n",
    "from NiLBS.pose.util import pose_from_smplh\n",
    "from NiLBS.sampling.point_sampler_box import PointSamplerBox\n",
    "from NiLBS.sampling.point_sampler_surface import PointSamplerSurface\n",
    "from NiLBS.sampling.weight_train_sampler import WeightTrainSampler\n",
    "from NiLBS.sampling.pose_sampler_amass import PoseSamplerAMASS\n",
    "from NiLBS.mesh.mesh_occupancy import MeshOccupancy\n",
    "\n",
    "\n",
    "bm_path = '../data/AMASS/body_models/smplh/female/model.npz'\n",
    "\n",
    "bm = BodyModel(bm_path=bm_path)\n",
    "faces = c2c(bm.f)\n",
    "\n",
    "npz_bdata_path = '../data/AMASS/MPILimits/MPI_Limits/03099/lar1_poses.npz' # the path to body data\n",
    "bdata = np.load(npz_bdata_path)\n",
    "\n",
    "psa = PoseSamplerAMASS(bm, bdata)\n",
    "frame_poses = psa.sample_frames(step=100, n_frames=10)\n",
    "\n",
    "imw, imh=1000, 1000\n",
    "mv = MeshViewer(width=imw, height=imh, use_offscreen=False)\n",
    "\n",
    "\n",
    "weights = c2c(bm.weights)\n",
    "vertices = c2c(bm.v_template)[0]\n",
    "\n",
    "\n",
    "weight_model_path = '../models/weight_rest_naive'\n",
    "\n",
    "#wfmlp = WeightingFunctionMLPNaive(model_path=weight_model_path)\n",
    "wfmlpr = WeightingFunctionMLPRestNaive(model_path=weight_model_path)\n",
    "\n",
    "\n",
    "wf = WeightingFunctionPointwise(vertices, weights)\n",
    "\n",
    "\n",
    "md = LBSMeshDeformer(vertices, wfmlpr)\n",
    "body_mesh = trimesh.Trimesh(vertices=md.apply_lbs(frame_poses[0]), faces=faces, vertex_colors=np.tile(colors['grey'], (6890, 1)))\n",
    "ofm = OccupancyFunctionMesh(body_mesh)\n",
    "#mo = MeshOccupancy(ofm, 0.5, body_mesh.bounds)\n",
    "wts = WeightTrainSampler(ofm, body_mesh, weights)\n",
    "\n",
    "print('Occupancy mesh extracted')\n",
    "\n",
    "meshes = []\n",
    "\n",
    "meshes.append(body_mesh)\n",
    "\n",
    "mv.set_static_meshes(meshes)\n",
    "mv.set_background_color([0.3, 0.4, 0.9])\n",
    "\n",
    "\n",
    "plot = k3d.plot()\n",
    "plot\n",
    "\n"
   ],
   "metadata": {
    "collapsed": false,
    "pycharm": {
     "name": "#%%\n"
    }
   },
   "execution_count": 1,
   "outputs": [
    {
     "name": "stdout",
     "output_type": "stream",
     "text": [
      "Occupancy mesh extracted\n"
     ]
    },
    {
     "data": {
      "text/plain": "Plot(antialias=3, axes=['x', 'y', 'z'], axes_helper=1.0, background_color=16777215, camera=[2, -3, 0.2, 0.0, 0…",
      "application/vnd.jupyter.widget-view+json": {
       "version_major": 2,
       "version_minor": 0,
       "model_id": "95d06b14f3654996ac94814156132c41"
      }
     },
     "metadata": {},
     "output_type": "display_data"
    }
   ]
  },
  {
   "cell_type": "code",
   "execution_count": null,
   "outputs": [],
   "source": [],
   "metadata": {
    "collapsed": false,
    "pycharm": {
     "name": "#%%\n"
    }
   }
  }
 ],
 "metadata": {
  "kernelspec": {
   "display_name": "Python 3",
   "language": "python",
   "name": "python3"
  },
  "language_info": {
   "codemirror_mode": {
    "name": "ipython",
    "version": 2
   },
   "file_extension": ".py",
   "mimetype": "text/x-python",
   "name": "python",
   "nbconvert_exporter": "python",
   "pygments_lexer": "ipython2",
   "version": "2.7.6"
  }
 },
 "nbformat": 4,
 "nbformat_minor": 0
}